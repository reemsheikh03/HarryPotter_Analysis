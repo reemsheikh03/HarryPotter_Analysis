{
 "cells": [
  {
   "cell_type": "code",
   "execution_count": 20,
   "id": "5930397c",
   "metadata": {},
   "outputs": [
    {
     "name": "stdout",
     "output_type": "stream",
     "text": [
      "showing info https://raw.githubusercontent.com/nltk/nltk_data/gh-pages/index.xml\n"
     ]
    }
   ],
   "source": [
    "#reading in all of the files\n",
    "import pandas as pd\n",
    "import numpy as np \n",
    "import matplotlib.pyplot as plt\n",
    "import seaborn as sns\n",
    "\n",
    "plt.style.use('ggplot')\n",
    "import nltk\n",
    "nltk.download()\n",
    "\n",
    "chapters_filepath = '/Users/reemsheikh/Documents/Harry_Potter_Movies/Chapters.csv'\n",
    "chapters_data = pd.read_csv(chapters_filepath, encoding = 'latin1')\n",
    "\n",
    "characters_filepath = '/Users/reemsheikh/Documents/Harry_Potter_Movies/Characters.csv'\n",
    "characters_data = pd.read_csv(characters_filepath, encoding = 'latin1')\n",
    "\n",
    "dialogue_filepath = '/Users/reemsheikh/Documents/Harry_Potter_Movies/Dialogue.csv'\n",
    "dialogue_data = pd.read_csv(dialogue_filepath, encoding = 'latin1')\n",
    "\n",
    "movies_filepath = '/Users/reemsheikh/Documents/Harry_Potter_Movies/Movies.csv'\n",
    "movies_data = pd.read_csv(movies_filepath)\n",
    "\n",
    "places_filepath = '/Users/reemsheikh/Documents/Harry_Potter_Movies/Places.csv'\n",
    "places_data = pd.read_csv(places_filepath)\n",
    "\n",
    "spells_filepath = '/Users/reemsheikh/Documents/Harry_Potter_Movies/Spells.csv'\n",
    "spells_data = pd.read_csv(spells_filepath)"
   ]
  },
  {
   "cell_type": "code",
   "execution_count": 21,
   "id": "e3699dea",
   "metadata": {},
   "outputs": [],
   "source": [
    "#taking the dialogue_data dataset and sectioning it off into harry, ron, and hermione dialogue to work with \n",
    "\n",
    "harry_dialogue = dialogue_data.loc[dialogue_data['Character ID'] == 1] \n",
    "ron_dialogue = dialogue_data.loc[dialogue_data['Character ID'] == 2]\n",
    "hermione_dialogue = dialogue_data.loc[dialogue_data['Character ID'] == 3]"
   ]
  },
  {
   "cell_type": "code",
   "execution_count": 22,
   "id": "dfcb21ff",
   "metadata": {},
   "outputs": [],
   "source": [
    "#creating a list of all the spells \n",
    "#creating lists of the harry, ron, and hermione dialogue data\n",
    "spell_list = spells_data['Incantation'].tolist()\n",
    "harry_dialogue_list = harry_dialogue['Dialogue'].tolist()\n",
    "ron_dialogue_list = ron_dialogue['Dialogue'].tolist()\n",
    "hermione_dialogue_list = hermione_dialogue['Dialogue'].tolist()\n"
   ]
  },
  {
   "cell_type": "code",
   "execution_count": 23,
   "id": "83611d78",
   "metadata": {},
   "outputs": [],
   "source": [
    "#finding all of the dialogue that has a spell in it for each character and creating lists of that dialogue \n",
    "#for each character respectively\n",
    "#creating lists of all the spells that each character used \n",
    "\n",
    "#!!!\n",
    "#for whatever reason the first element of the hermione_spell_dialogue repeats itself twice; used .pop(0) to resolve\n",
    "#^same issue with the second element of harry_spell_dialogue\n",
    "\n",
    "harry_spell_dialogue = []\n",
    "harry_spells = []\n",
    "for dialogue in harry_dialogue_list: \n",
    "    for spell in spell_list: \n",
    "        if spell in dialogue:\n",
    "            harry_spell_dialogue.append(dialogue)\n",
    "            harry_spells.append(spell)\n",
    "            \n",
    "hermione_spell_dialogue = []\n",
    "hermione_spells = []\n",
    "for dialogue in hermione_dialogue_list: \n",
    "    for spell in spell_list: \n",
    "        if spell in dialogue: \n",
    "            hermione_spell_dialogue.append(dialogue)\n",
    "            hermione_spells.append(spell)\n",
    "del hermione_spell_dialogue[0]\n",
    "            \n",
    "ron_spell_dialogue = []\n",
    "ron_spells = []\n",
    "for dialogue in ron_dialogue_list: \n",
    "    for spell in spell_list: \n",
    "        if spell in dialogue: \n",
    "            ron_spell_dialogue.append(dialogue)\n",
    "            ron_spells.append(spell)\n",
    "            \n",
    "all_char_spells = harry_spells + hermione_spells + ron_spells "
   ]
  },
  {
   "cell_type": "code",
   "execution_count": 24,
   "id": "e8661fc7",
   "metadata": {},
   "outputs": [],
   "source": [
    "#function that counts the number of unique spells for each character and the total amount of times that they called \n",
    "#spells\n",
    "def spell_counter(lst):\n",
    "    spell_counts = {}\n",
    "    unique_spells = []\n",
    "    if lst == harry_spells: \n",
    "        character = 'Harry Potter'\n",
    "    if lst == hermione_spells: \n",
    "        character = 'Hermione Granger'\n",
    "    if lst == ron_spells: \n",
    "        character = 'Ron Weasley'\n",
    "    if lst == all_char_spells: \n",
    "        character = 'All three characters'\n",
    "    for element in lst:\n",
    "        if element in spell_counts:\n",
    "            spell_counts[element] += 1\n",
    "        else:\n",
    "            spell_counts[element] = 1\n",
    "    for spell, count in spell_counts.items():\n",
    "        unique_spells.append(spell)\n",
    "    print(character + ' made ' + str(len(unique_spells)) + ' unique incantations, for a grand total of ' + str(len(lst)) + ' incantations throughout the movie scripts.')\n",
    "    return spell_counts\n"
   ]
  },
  {
   "cell_type": "code",
   "execution_count": 25,
   "id": "75e5b5fc",
   "metadata": {
    "scrolled": true
   },
   "outputs": [
    {
     "name": "stdout",
     "output_type": "stream",
     "text": [
      "Harry Potter made 20 unique incantations, for a grand total of 44 incantations throughout the movie scripts.\n",
      "Hermione Granger made 21 unique incantations, for a grand total of 29 incantations throughout the movie scripts.\n",
      "Ron Weasley made 6 unique incantations, for a grand total of 7 incantations throughout the movie scripts.\n",
      "All three characters made 36 unique incantations, for a grand total of 80 incantations throughout the movie scripts.\n"
     ]
    }
   ],
   "source": [
    "#function that finds the spells characters have in common and returns a dictionary with those spells, \n",
    "#and the sum of how many times they occur between characters\n",
    "def common_spells(*dicts): \n",
    "    common_keys = set.intersection(*[set(d.keys()) for d in dicts])\n",
    "    common_dict = {}\n",
    "    for key in common_keys: \n",
    "        common_dict[key] = sum(d[key] for d in dicts)\n",
    "    return common_dict\n",
    "\n",
    "#using the spell_counter function to gather data about the spells from each character\n",
    "#then using the common_spells function to determine which spells the characters have in common \n",
    "harry_dict = spell_counter(harry_spells)\n",
    "hermione_dict = spell_counter(hermione_spells)\n",
    "ron_dict = spell_counter(ron_spells)\n",
    "all_char_dict = spell_counter(all_char_spells)"
   ]
  },
  {
   "cell_type": "code",
   "execution_count": 26,
   "id": "85f7d33f",
   "metadata": {},
   "outputs": [
    {
     "data": {
      "text/plain": [
       "{'Alohomora': 5, 'Lumos': 11, 'Imperio': 3}"
      ]
     },
     "execution_count": 26,
     "metadata": {},
     "output_type": "execute_result"
    }
   ],
   "source": [
    "common_spells(harry_dict, ron_dict, hermione_dict)\n"
   ]
  },
  {
   "cell_type": "code",
   "execution_count": 27,
   "id": "cd0e44b2",
   "metadata": {},
   "outputs": [],
   "source": [
    "spells_in_common = list(common_spells(harry_dict, ron_dict, hermione_dict).keys())\n",
    "counts_in_common = list(common_spells(harry_dict, ron_dict, hermione_dict).values())"
   ]
  },
  {
   "cell_type": "code",
   "execution_count": 28,
   "id": "73d499a4",
   "metadata": {},
   "outputs": [
    {
     "data": {
      "image/png": "[encoded data removed]",
      "text/plain": [
       "<Figure size 432x288 with 1 Axes>"
      ]
     },
     "metadata": {},
     "output_type": "display_data"
    }
   ],
   "source": [
    "sorted_spells, sorted_counts = zip(*sorted(zip(spells_in_common, counts_in_common), key=lambda x: x[1], reverse=True))\n",
    "fig, ax = plt.subplots()\n",
    "\n",
    "ax.bar(sorted_spells, sorted_counts)\n",
    "\n",
    "ax.set_xlabel('Spells')\n",
    "ax.set_ylabel('Frequency')\n",
    "ax.set_title('Spells in Common')\n",
    "\n",
    "plt.xticks(rotation=90)\n",
    "\n",
    "plt.tight_layout()\n",
    "plt.show()\n"
   ]
  },
  {
   "cell_type": "code",
   "execution_count": 30,
   "id": "002362be",
   "metadata": {},
   "outputs": [
    {
     "data": {
      "image/png": "[encoded data removed]",
      "text/plain": [
       "<Figure size 432x288 with 1 Axes>"
      ]
     },
     "metadata": {},
     "output_type": "display_data"
    }
   ],
   "source": [
    "spells = list(all_char_dict.keys())\n",
    "counts = list(all_char_dict.values())\n",
    "sorted_spells, sorted_counts = zip(*sorted(zip(spells, counts), key=lambda x: x[1], reverse=True))\n",
    "\n",
    "fig, ax = plt.subplots()\n",
    "\n",
    "ax.bar(sorted_spells, sorted_counts)\n",
    "\n",
    "ax.set_xlabel('Spells')\n",
    "ax.set_ylabel('Frequency')\n",
    "ax.set_title('Frequency Distribution of All Spells')\n",
    "\n",
    "plt.xticks(rotation= 90)\n",
    "\n",
    "plt.tight_layout()\n",
    "plt.show()"
   ]
  },
  {
   "cell_type": "code",
   "execution_count": 31,
   "id": "54701d16",
   "metadata": {},
   "outputs": [],
   "source": [
    "#classifying each spell by their location \n",
    "#incomplete, needs to be worked on later"
   ]
  },
  {
   "cell_type": "code",
   "execution_count": 32,
   "id": "3430aac8",
   "metadata": {},
   "outputs": [],
   "source": [
    "#Diagon_Alley = places_data.loc[places_data['Place Category'] == 'Diagon Alley']\n",
    "#Dwellings = places_data.loc[places_data['Place Category'] == 'Dwellings']\n",
    "#Hogsmeade = places_data.loc[places_data['Place Category'] == 'Hogsmeade']\n",
    "#Hogwarts = places_data.loc[places_data['Place Category'] == 'Hogwarts']\n",
    "#Other_Magical_Locations = places_data.loc[places_data['Place Category'] == 'Other Magical Locations']"
   ]
  },
  {
   "cell_type": "code",
   "execution_count": 33,
   "id": "8fef7aaf",
   "metadata": {},
   "outputs": [],
   "source": [
    "#DiagonAlley_ID_list = Diagon_Alley['Place ID'].tolist()\n",
    "#Dwellings_ID_list = Dwellings['Place ID'].tolist()\n",
    "#Hogsmeade_ID_list = Hogsmeade['Place ID'].tolist()\n",
    "#Hogwarts_ID_list = Hogwarts['Place ID'].tolist()\n",
    "#Other_ID_List = Other_Magical_Locations['Place ID'].tolist()"
   ]
  },
  {
   "cell_type": "code",
   "execution_count": 34,
   "id": "2496790e",
   "metadata": {},
   "outputs": [
    {
     "data": {
      "text/plain": [
       "1922"
      ]
     },
     "execution_count": 34,
     "metadata": {},
     "output_type": "execute_result"
    }
   ],
   "source": [
    "len(harry_dialogue_list)"
   ]
  },
  {
   "cell_type": "code",
   "execution_count": 35,
   "id": "9c743df1",
   "metadata": {},
   "outputs": [
    {
     "name": "stdout",
     "output_type": "stream",
     "text": [
      "Sir, my mother's Patronus. It was a doe, wasn't it? Just like Professor Snape's. Curious, don't you think?\n"
     ]
    },
    {
     "data": {
      "text/plain": [
       "<bound method Tree.pprint of Tree('S', [Tree('GPE', [('Sir', 'NNP')]), (',', ','), ('my', 'PRP$'), ('mother', 'NN'), (\"'s\", 'POS'), Tree('PERSON', [('Patronus', 'NNP')]), ('.', '.'), ('It', 'PRP'), ('was', 'VBD'), ('a', 'DT'), ('doe', 'NN'), (',', ','), ('was', 'VBD'), (\"n't\", 'RB'), ('it', 'PRP'), ('?', '.'), ('Just', 'NNP'), ('like', 'IN'), Tree('ORGANIZATION', [('Professor', 'NNP'), ('Snape', 'NNP')]), (\"'s\", 'POS'), ('.', '.'), Tree('PERSON', [('Curious', 'NNP')]), (',', ','), ('do', 'VBP'), (\"n't\", 'RB'), ('you', 'PRP'), ('think', 'VB'), ('?', '.')])>"
      ]
     },
     "execution_count": 35,
     "metadata": {},
     "output_type": "execute_result"
    }
   ],
   "source": [
    "#sentiment analysis \n",
    "example = harry_dialogue_list[1900]\n",
    "print(example)\n",
    "tokens = nltk.word_tokenize(example)\n",
    "tagged = nltk.pos_tag(tokens)\n",
    "entities = nltk.chunk.ne_chunk(tagged)\n",
    "entities.pprint\n"
   ]
  },
  {
   "cell_type": "code",
   "execution_count": 36,
   "id": "ab5b6457",
   "metadata": {},
   "outputs": [
    {
     "name": "stdout",
     "output_type": "stream",
     "text": [
      "Harry's Overall Sentiment Scores: {'positive': 0.1105338189386053, 'neutral': 0.804789281997918, 'negative': 0.08467637877211244, 'compound': 0.012938657648283032}\n",
      "Hermione's Overall Sentiment Scores: {'positive': 0.10480542452830188, 'neutral': 0.8112252358490564, 'negative': 0.08397287735849057, 'compound': 0.015622759433962264}\n",
      "Ron's Overall Sentiment Scores: {'positive': 0.10681734104046241, 'neutral': 0.779882080924855, 'negative': 0.11330173410404631, 'compound': -0.01595942196531791}\n"
     ]
    }
   ],
   "source": [
    "from nltk.sentiment import SentimentIntensityAnalyzer\n",
    "from tqdm.notebook import tqdm\n",
    "\n",
    "# Initialize SentimentIntensityAnalyzer\n",
    "sia = SentimentIntensityAnalyzer()\n",
    "\n",
    "# List to store sentiment scores for each dialogue\n",
    "harry_sentiment_scores = []\n",
    "\n",
    "# Loop through each dialogue in harry_dialogue_list\n",
    "for dialogue in harry_dialogue_list:\n",
    "    # Calculate sentiment scores for the current dialogue\n",
    "    scores = sia.polarity_scores(dialogue)\n",
    "    harry_sentiment_scores.append(scores)\n",
    "\n",
    "\n",
    "# Calculate overall sentiment score\n",
    "harry_overall_sentiment = {\n",
    "    'positive': sum(score['pos'] for score in harry_sentiment_scores) / len(harry_sentiment_scores),\n",
    "    'neutral': sum(score['neu'] for score in harry_sentiment_scores) / len(harry_sentiment_scores),\n",
    "    'negative': sum(score['neg'] for score in harry_sentiment_scores) / len(harry_sentiment_scores),\n",
    "    'compound': sum(score['compound'] for score in harry_sentiment_scores) / len(harry_sentiment_scores)\n",
    "}\n",
    "\n",
    "print(\"Harry's Overall Sentiment Scores:\", harry_overall_sentiment)\n",
    "\n",
    "    \n",
    "    \n",
    "\n",
    "hermione_sentiment_scores = []\n",
    "\n",
    "# Loop through each dialogue in harry_dialogue_list\n",
    "for dialogue in hermione_dialogue_list:\n",
    "    # Calculate sentiment scores for the current dialogue\n",
    "    scores = sia.polarity_scores(dialogue)\n",
    "    hermione_sentiment_scores.append(scores)\n",
    "\n",
    "\n",
    "# Calculate overall sentiment score\n",
    "hermione_overall_sentiment = {\n",
    "    'positive': sum(score['pos'] for score in hermione_sentiment_scores) / len(hermione_sentiment_scores),\n",
    "    'neutral': sum(score['neu'] for score in hermione_sentiment_scores) / len(hermione_sentiment_scores),\n",
    "    'negative': sum(score['neg'] for score in hermione_sentiment_scores) / len(hermione_sentiment_scores),\n",
    "    'compound': sum(score['compound'] for score in hermione_sentiment_scores) / len(hermione_sentiment_scores)\n",
    "}\n",
    "\n",
    "print(\"Hermione's Overall Sentiment Scores:\", hermione_overall_sentiment)\n",
    "\n",
    "\n",
    "\n",
    "\n",
    "ron_sentiment_scores = []\n",
    "\n",
    "# Loop through each dialogue in harry_dialogue_list\n",
    "for dialogue in ron_dialogue_list:\n",
    "    # Calculate sentiment scores for the current dialogue\n",
    "    scores = sia.polarity_scores(dialogue)\n",
    "    ron_sentiment_scores.append(scores)\n",
    "\n",
    "\n",
    "# Calculate overall sentiment score\n",
    "ron_overall_sentiment = {\n",
    "    'positive': sum(score['pos'] for score in ron_sentiment_scores) / len(ron_sentiment_scores),\n",
    "    'neutral': sum(score['neu'] for score in ron_sentiment_scores) / len(ron_sentiment_scores),\n",
    "    'negative': sum(score['neg'] for score in ron_sentiment_scores) / len(ron_sentiment_scores),\n",
    "    'compound': sum(score['compound'] for score in ron_sentiment_scores) / len(ron_sentiment_scores)\n",
    "}\n",
    "\n",
    "print(\"Ron's Overall Sentiment Scores:\", ron_overall_sentiment)\n"
   ]
  },
  {
   "cell_type": "code",
   "execution_count": 37,
   "id": "c8157953",
   "metadata": {},
   "outputs": [
    {
     "name": "stdout",
     "output_type": "stream",
     "text": [
      "Requirement already satisfied: transformers in ./opt/anaconda3/lib/python3.9/site-packages (4.32.0)\n",
      "Requirement already satisfied: pyyaml>=5.1 in ./opt/anaconda3/lib/python3.9/site-packages (from transformers) (6.0)\n",
      "Requirement already satisfied: tqdm>=4.27 in ./opt/anaconda3/lib/python3.9/site-packages (from transformers) (4.62.3)\n",
      "Requirement already satisfied: huggingface-hub<1.0,>=0.15.1 in ./opt/anaconda3/lib/python3.9/site-packages (from transformers) (0.16.4)\n",
      "Requirement already satisfied: safetensors>=0.3.1 in ./opt/anaconda3/lib/python3.9/site-packages (from transformers) (0.3.3)\n",
      "Requirement already satisfied: regex!=2019.12.17 in ./opt/anaconda3/lib/python3.9/site-packages (from transformers) (2021.8.3)\n",
      "Requirement already satisfied: packaging>=20.0 in ./opt/anaconda3/lib/python3.9/site-packages (from transformers) (21.0)\n",
      "Requirement already satisfied: requests in ./opt/anaconda3/lib/python3.9/site-packages (from transformers) (2.26.0)\n",
      "Requirement already satisfied: tokenizers!=0.11.3,<0.14,>=0.11.1 in ./opt/anaconda3/lib/python3.9/site-packages (from transformers) (0.13.3)\n",
      "Requirement already satisfied: filelock in ./opt/anaconda3/lib/python3.9/site-packages (from transformers) (3.3.1)\n",
      "Requirement already satisfied: numpy>=1.17 in ./opt/anaconda3/lib/python3.9/site-packages (from transformers) (1.20.3)\n",
      "Requirement already satisfied: typing-extensions>=3.7.4.3 in ./opt/anaconda3/lib/python3.9/site-packages (from huggingface-hub<1.0,>=0.15.1->transformers) (3.10.0.2)\n",
      "Requirement already satisfied: fsspec in ./opt/anaconda3/lib/python3.9/site-packages (from huggingface-hub<1.0,>=0.15.1->transformers) (2021.8.1)\n",
      "Requirement already satisfied: pyparsing>=2.0.2 in ./opt/anaconda3/lib/python3.9/site-packages (from packaging>=20.0->transformers) (3.0.4)\n",
      "Requirement already satisfied: urllib3<1.27,>=1.21.1 in ./opt/anaconda3/lib/python3.9/site-packages (from requests->transformers) (1.26.7)\n",
      "Requirement already satisfied: charset-normalizer~=2.0.0 in ./opt/anaconda3/lib/python3.9/site-packages (from requests->transformers) (2.0.4)\n",
      "Requirement already satisfied: certifi>=2017.4.17 in ./opt/anaconda3/lib/python3.9/site-packages (from requests->transformers) (2021.10.8)\n",
      "Requirement already satisfied: idna<4,>=2.5 in ./opt/anaconda3/lib/python3.9/site-packages (from requests->transformers) (3.2)\n",
      "Note: you may need to restart the kernel to use updated packages.\n"
     ]
    }
   ],
   "source": [
    "pip install transformers"
   ]
  },
  {
   "cell_type": "code",
   "execution_count": 38,
   "id": "c6d02b0a",
   "metadata": {},
   "outputs": [
    {
     "name": "stdout",
     "output_type": "stream",
     "text": [
      "Requirement already satisfied: torch in ./opt/anaconda3/lib/python3.9/site-packages (2.0.1)\n",
      "Requirement already satisfied: jinja2 in ./opt/anaconda3/lib/python3.9/site-packages (from torch) (2.11.3)\n",
      "Requirement already satisfied: sympy in ./opt/anaconda3/lib/python3.9/site-packages (from torch) (1.9)\n",
      "Requirement already satisfied: filelock in ./opt/anaconda3/lib/python3.9/site-packages (from torch) (3.3.1)\n",
      "Requirement already satisfied: networkx in ./opt/anaconda3/lib/python3.9/site-packages (from torch) (2.6.3)\n",
      "Requirement already satisfied: typing-extensions in ./opt/anaconda3/lib/python3.9/site-packages (from torch) (3.10.0.2)\n",
      "Requirement already satisfied: MarkupSafe>=0.23 in ./opt/anaconda3/lib/python3.9/site-packages (from jinja2->torch) (1.1.1)\n",
      "Requirement already satisfied: mpmath>=0.19 in ./opt/anaconda3/lib/python3.9/site-packages (from sympy->torch) (1.2.1)\n",
      "Note: you may need to restart the kernel to use updated packages.\n"
     ]
    }
   ],
   "source": [
    "pip install torch"
   ]
  },
  {
   "cell_type": "code",
   "execution_count": 39,
   "id": "487fa932",
   "metadata": {},
   "outputs": [],
   "source": [
    "from transformers import pipeline"
   ]
  },
  {
   "cell_type": "code",
   "execution_count": null,
   "id": "95cde9dc",
   "metadata": {},
   "outputs": [],
   "source": []
  },
  {
   "cell_type": "code",
   "execution_count": null,
   "id": "4bb72541",
   "metadata": {},
   "outputs": [],
   "source": []
  },
  {
   "cell_type": "code",
   "execution_count": null,
   "id": "c2c98112",
   "metadata": {},
   "outputs": [],
   "source": []
  }
 ],
 "metadata": {
  "kernelspec": {
   "display_name": "Python 3 (ipykernel)",
   "language": "python",
   "name": "python3"
  },
  "language_info": {
   "codemirror_mode": {
    "name": "ipython",
    "version": 3
   },
   "file_extension": ".py",
   "mimetype": "text/x-python",
   "name": "python",
   "nbconvert_exporter": "python",
   "pygments_lexer": "ipython3",
   "version": "3.9.7"
  }
 },
 "nbformat": 4,
 "nbformat_minor": 5
}
